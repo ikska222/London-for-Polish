{
 "cells": [
  {
   "cell_type": "markdown",
   "metadata": {},
   "source": [
    "## Week 4 - Part 1: Decsription of the data science problem"
   ]
  },
  {
   "cell_type": "markdown",
   "metadata": {},
   "source": [
    "##### London. The biggest city in European Union (at least until BREXIT). Great multi-cultural mix that that is very open everyone. Yet this is one of the most common destination of emigration among Poles. British Office of National Statistics estimate number of Poles in year 2019 at level of 902 000 (link: https://www.ons.gov.uk/peoplepopulationandcommunity/populationandmigration/internationalmigration/datasets/populationoftheunitedkingdombycountryofbirthandnationality). Poles are estimated to be top 1 nation when it comes to number of non-British in UK, and Poland is top 2 when it comes to place of birth of UK inhabitants (just behind India). "
   ]
  },
  {
   "cell_type": "markdown",
   "metadata": {},
   "source": [
    "##### Estimates shows that one of the main city chosen by Poles is London. As a Pole I saw myself that many of my friends emigrated to UK, including London, where they started to settle and put down roots. "
   ]
  },
  {
   "cell_type": "markdown",
   "metadata": {},
   "source": [
    "##### Since emigration for London is very popular among Poles (let's ommit now Brexit discussion) I thought that it would be helpful to create some simply tool which will help to choose area of living in London."
   ]
  },
  {
   "cell_type": "markdown",
   "metadata": {},
   "source": [
    "##### My friend wants to study and work in London (let's ommit BREXIT stuff, and so on, this is fully imaginatory quest). He/She asked me which part of London should he/she live. As beginner data scientist I've wanted to help my friend with bunch of analysis. My friend has a couple of criteria that I should take into account in my analysis:"
   ]
  },
  {
   "cell_type": "markdown",
   "metadata": {},
   "source": [
    "- Price of a flat rental\n",
    "- Public transport accesability\n",
    "- Safety of cetain area\n",
    "- General satisfaction of living in certain area\n",
    "- Green space in neighborhood\n",
    "- Polish venues in given area"
   ]
  },
  {
   "cell_type": "markdown",
   "metadata": {},
   "source": [
    "##### My goal is to find an area in London will be the most satisfying for my friend. He/she wants to study and work part time. He/she will commute often therefore area should have great accesibility to public transport. \n",
    "##### Moreover my friend is a student, therefore rental costs should not be very high. For time being he/she is prone to rent a single room rather than a small flat. \n",
    "##### Area should be quite safe, therefore any dodgy places with high crime rate should be avoided as well. In general the area should be rather cheerful, and people living there should be in general satisfied.\n",
    "##### As a Pole, my friend is looking also for some Polish venues, like shops or restaurants where he/she can feels like home for a bit. For this purpose I will use Forsquare to carve out information about Polish venues around the center of boroughs  "
   ]
  },
  {
   "cell_type": "markdown",
   "metadata": {},
   "source": [
    "##### My friend hasn't specified which of the main characteristics have importance, therefore for the sake of simplicity I assumed that they are equal... Nevertheless I feel that my friend after seeing the results may weight higher some features therefore I would like to create some tool that will point area of London according to my friend's preferences and budget. Tool could be helpful for other Poles thinking about emigration to London."
   ]
  },
  {
   "cell_type": "markdown",
   "metadata": {},
   "source": [
    "##### Boroughs are large areas, therefore I will analyse neighbours afterwards. Unfortunatey there are not detailed data about living in certain neighborhoods, therefore after choosing particular borough I'll try to do ML clustering for  neighborhoods in particular borough using data from Forsquare"
   ]
  },
  {
   "cell_type": "markdown",
   "metadata": {},
   "source": [
    "## Week 4 - Part 2: Description of the data"
   ]
  },
  {
   "cell_type": "markdown",
   "metadata": {},
   "source": [
    "##### 1) First information is that London is divided to 33 areas - 32 boroughs and 1 separate \"City of London\". For the sake of simplicity I'll later on call those 33 areas as boroughs.\n",
    "##### Full list of boroughs with names and their coordinates are available on Wikipedia. Link: 'https://en.wikipedia.org/wiki/List_of_London_boroughs'\n",
    "##### Boroughs coordinates are necesairy for part related to Polish venues search. "
   ]
  },
  {
   "cell_type": "markdown",
   "metadata": {},
   "source": [
    "##### 2) Further dataset needed for analysis are prices of locals in given borough. List of average prices for particular borough are given in London Datastore site under the link: 'https://data.london.gov.uk/download/average-private-rents-borough/73b9fb07-b5bb-4a53-88b7-c17269879a08/voa-average-rent-borough.xls'\n",
    "\n",
    "##### Data useful for me would be average price or median price for given borough\n",
    "\n",
    "##### Morevore price is given for few types of flats / or room: 'Room', 'Studio', 'One Bedroom', 'Two Bedroom', 'Three Bedroom', 'Four or more Bedrooms'. In a tool you could select particular type of accommodation that could be used for analysis. As a basis I will choose \"Room\" as a base scenario since my imaginatory friend is a student and will look for maximal cost reductions. "
   ]
  },
  {
   "cell_type": "markdown",
   "metadata": {},
   "source": [
    "##### 3) Further data are available again on London Datastore site. In this dataset there are a lot of interesting statistics however I'm looking only for those related with crime rate, greenspace, public transport accessibility and happiness score in given borough.\n",
    "\n",
    "##### Data is available under the link: 'https://data.london.gov.uk/dataset/london-borough-profiles/resource/80647ce7-14f3-4e31-b1cd-d5f7ea3553be/download'\n",
    "\n",
    "##### public transport accessibility and happiness score are given from numbers of 0 to 10 where 10 is the highest score. \n",
    "\n",
    "##### crime rate is a number of crimes for particular year for thousand of inhabitants\n",
    "\n",
    "##### Greenspace is a % value of green areas in given borough"
   ]
  },
  {
   "cell_type": "markdown",
   "metadata": {},
   "source": [
    "##### 4) Last part of data is related with Polish venues. This is the time for Forsquare app. My goal would be there to find all venues that have words 'Polish', 'Poland', 'Polski' in their names or word 'Polish' in Venue type. Result will be total numbers of Polish venues. Number of venues would be scaled for radius assigned for given borough. Radius of course depends on the area size of the borough."
   ]
  },
  {
   "cell_type": "code",
   "execution_count": null,
   "metadata": {},
   "outputs": [],
   "source": []
  }
 ],
 "metadata": {
  "kernelspec": {
   "display_name": "Python",
   "language": "python",
   "name": "conda-env-python-py"
  },
  "language_info": {
   "codemirror_mode": {
    "name": "ipython",
    "version": 3
   },
   "file_extension": ".py",
   "mimetype": "text/x-python",
   "name": "python",
   "nbconvert_exporter": "python",
   "pygments_lexer": "ipython3",
   "version": "3.6.7"
  }
 },
 "nbformat": 4,
 "nbformat_minor": 4
}
