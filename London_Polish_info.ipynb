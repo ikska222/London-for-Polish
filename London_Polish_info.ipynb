{
 "cells": [
  {
   "cell_type": "markdown",
   "metadata": {},
   "source": [
    "## Part 1: Decsription of the data science problem"
   ]
  },
  {
   "cell_type": "markdown",
   "metadata": {},
   "source": [
    "##### London. The biggest city in European Union (at least until BREXIT). Great multi-cultural mix that that is very open everyone. Yet this is one of the most common destination of emigration among Poles. British Office of National Statistics estimate number of Poles in year 2019 at level of 902 000 (link: https://www.ons.gov.uk/peoplepopulationandcommunity/populationandmigration/internationalmigration/datasets/populationoftheunitedkingdombycountryofbirthandnationality). Poles are estimated to be top 1 nation when it comes to number of non-British in UK, and Poland is top 2 when it comes to place of birth of UK inhabitants (just behind India). "
   ]
  },
  {
   "cell_type": "markdown",
   "metadata": {},
   "source": [
    "##### Estimates shows that one of the main city chosen by Poles is London. As a Pole I saw myself that many of my friends emigrated to UK, including London, where they started to settle and put down roots. "
   ]
  },
  {
   "cell_type": "markdown",
   "metadata": {},
   "source": [
    "##### Since emigration for London is very popular among Poles (let's ommit now Brexit discussion) I thought that it would be helpful to create some simply tool which will help to choose area of living in London."
   ]
  },
  {
   "cell_type": "markdown",
   "metadata": {},
   "source": [
    "##### My friend wants to study and work in London (let's ommit BREXIT stuff, and so on, this is fully imaginatory quest). He/She asked me which part of London should he/she live. As beginner data scientist I've wanted to help my friend with bunch of analysis. My friend has a couple of criteria that I should take into account in my analysis:"
   ]
  },
  {
   "cell_type": "markdown",
   "metadata": {},
   "source": [
    "- Price of a flat rental\n",
    "- Public transport accesability\n",
    "- Safety of cetain area\n",
    "- Distance to city center\n",
    "- General satisfaction of living in certain area\n",
    "- Green space in neighborhood\n",
    "- Polish venues in given area"
   ]
  },
  {
   "cell_type": "markdown",
   "metadata": {},
   "source": [
    "##### My goal is to find an area in London will be the most satisfying for my friend. He/she wants to study and work part time. He/she will commute often therefore area should have great accesibility to public transport. \n",
    "##### Moreover my friend is a student, therefore rental costs should not be very high. For time being he/she is prone to rent a single room rather than a small flat. \n",
    "##### Area should be quite safe, therefore any dodgy places with high crime rate should be avoided as well. In general the area should be rather cheerful, and people living there should be in general satisfied.\n",
    "##### As a Pole, my friend is looking also for some Polish venues, like shops or restaurants where he/she can feels like home for a bit. For this purpose I will use Forsquare to carve out information about Polish venues around the center of boroughs  "
   ]
  },
  {
   "cell_type": "markdown",
   "metadata": {},
   "source": [
    "##### My friend hasn't specified which of the main characteristics have importance, therefore for the sake of simplicity I assumed that they are equal... Nevertheless I feel that my friend after seeing the results may weight higher some features therefore I would like to calculate other cases."
   ]
  },
  {
   "cell_type": "markdown",
   "metadata": {},
   "source": [
    "##### Boroughs are large areas, therefore I will analyse neighbours afterwards. Unfortunatey there are not detailed data about living in certain neighborhoods, therefore after choosing particular borough I'll try to do ML clustering for  neighborhoods in particular borough using data from Forsquare"
   ]
  },
  {
   "cell_type": "markdown",
   "metadata": {},
   "source": [
    "## Part 2: Description of the data"
   ]
  },
  {
   "cell_type": "markdown",
   "metadata": {},
   "source": [
    "##### 1) First information is that London is divided to 33 areas - 32 boroughs and 1 separate \"City of London\". For the sake of simplicity I'll later on call those 33 areas as boroughs.\n",
    "##### Full list of boroughs with names and their coordinates are available on Wikipedia. Link: 'https://en.wikipedia.org/wiki/List_of_London_boroughs'\n",
    "##### Boroughs coordinates are necesairy for part related to Polish venues search. "
   ]
  },
  {
   "cell_type": "markdown",
   "metadata": {},
   "source": [
    "##### 2) Further dataset needed for analysis are prices of locals in given borough. List of average prices for particular borough are given in London Datastore site under the link: 'https://data.london.gov.uk/download/average-private-rents-borough/73b9fb07-b5bb-4a53-88b7-c17269879a08/voa-average-rent-borough.xls'\n",
    "\n",
    "##### Data useful for me would be average price or median price for given borough\n",
    "\n",
    "##### Morevore price is given for few types of flats / or room: 'Room', 'Studio', 'One Bedroom', 'Two Bedroom', 'Three Bedroom', 'Four or more Bedrooms'. In a tool you could select particular type of accommodation that could be used for analysis. As a basis I will choose \"Room\" as a base scenario since my imaginatory friend is a student and will look for maximal cost reductions. "
   ]
  },
  {
   "cell_type": "markdown",
   "metadata": {},
   "source": [
    "##### 3) Further data are available again on London Datastore site. In this dataset there are a lot of interesting statistics however I'm looking only for those related with crime rate, greenspace, public transport accessibility and happiness score in given borough.\n",
    "\n",
    "##### Data is available under the link: 'https://data.london.gov.uk/dataset/london-borough-profiles/resource/80647ce7-14f3-4e31-b1cd-d5f7ea3553be/download'\n",
    "\n",
    "##### public transport accessibility and happiness score are given from numbers of 0 to 10 where 10 is the highest score. \n",
    "\n",
    "##### crime rate is a number of crimes for particular year for thousand of inhabitants\n",
    "\n",
    "##### Greenspace is a % value of green areas in given borough"
   ]
  },
  {
   "cell_type": "markdown",
   "metadata": {},
   "source": [
    "##### 4) Last part of data is related with Polish venues. This is the time for Forsquare app. My goal would be there to find all venues that have words 'Polish', 'Poland', 'Polski' in their names or word 'Polish' in Venue type. Result will be total numbers of Polish venues. Number of venues would be scaled for radius assigned for given borough. Radius of course depends on the area size of the borough."
   ]
  },
  {
   "cell_type": "markdown",
   "metadata": {},
   "source": [
    "## Part 3: Methodology section "
   ]
  },
  {
   "cell_type": "markdown",
   "metadata": {},
   "source": [
    "##### As it was said in the previous part the goal of the analysis is to find a Borough which will be suitable for my friend. "
   ]
  },
  {
   "cell_type": "code",
   "execution_count": 13,
   "metadata": {},
   "outputs": [],
   "source": [
    "from IPython.display import Image"
   ]
  },
  {
   "cell_type": "markdown",
   "metadata": {},
   "source": [
    "##### We'll be looking for appropriate borough in London, by using descriptive. List of boroughs is below: "
   ]
  },
  {
   "cell_type": "markdown",
   "metadata": {},
   "source": [
    "![title](Boro.jpg)"
   ]
  },
  {
   "cell_type": "markdown",
   "metadata": {},
   "source": [
    "##### We are going to use factors: Room price, Crime rate, Public transport, HAppiness score, \"Polish spirit\" and distance. Please note that those values were scaled down to 0 - 1 range, where 0 means the worst among neighbors while 1 means the best one. \n",
    "\n",
    "##### It should be noted as well that 1 in case of \"negative\" factors like crime rate or distance higher score means lower value of undesirable factor in given borough"
   ]
  },
  {
   "cell_type": "markdown",
   "metadata": {},
   "source": [
    "![title](base.jpg)"
   ]
  },
  {
   "cell_type": "markdown",
   "metadata": {},
   "source": [
    "##### In main excercise I made only  x 1 scalar, however it depends on your preferences. In case that my frined would wwight more public transport accesibility than happiness score it can be changed."
   ]
  },
  {
   "cell_type": "markdown",
   "metadata": {},
   "source": [
    "## Part 4: Results & discussion section "
   ]
  },
  {
   "cell_type": "markdown",
   "metadata": {},
   "source": [
    "#### In case that may friend will take into account all aspects listed in description section it seems that \"Southwark\" borough seems to be the most satisfying."
   ]
  },
  {
   "cell_type": "markdown",
   "metadata": {},
   "source": [
    "![title](Room.jpg)"
   ]
  },
  {
   "cell_type": "markdown",
   "metadata": {},
   "source": [
    "#### Let's take a look why is that so"
   ]
  },
  {
   "cell_type": "markdown",
   "metadata": {},
   "source": [
    "![title](Table1.jpg)"
   ]
  },
  {
   "cell_type": "markdown",
   "metadata": {},
   "source": [
    "##### It seems that despite moderate score of crime rate and low greenspace Southwark won due to small distance to center, rather good prices and moderate transport accesibility. \n",
    "\n",
    "##### Top 2 is Bromley with Great safety and huge green ares and good price. Distance however is grater and accesibility to public transport is rather poor.\n",
    "\n",
    "##### Top 3 is Westminster with Great vicinity to center, Polish accents and public transport, however it is characterised with high prices and highest crime rate among other boroughs\n",
    "\n",
    "##### Let's take a look now at other combinations"
   ]
  },
  {
   "cell_type": "markdown",
   "metadata": {},
   "source": [
    "![title](Table3.jpg)"
   ]
  },
  {
   "cell_type": "markdown",
   "metadata": {},
   "source": [
    "#### If we would not take into account green areas Southwark will be the leader as well. However 4 other boroughs will change. \n",
    "\n",
    "#### I will skip this point and head to \"Non-Polish\" category. It seems that Bromley now is the leader. Let's take a look why is that so:"
   ]
  },
  {
   "cell_type": "markdown",
   "metadata": {},
   "source": [
    "![title](Table4.jpg)"
   ]
  },
  {
   "cell_type": "markdown",
   "metadata": {},
   "source": [
    "#### Bromley won with Enfield or Barnet. But note that it has one of the worst public transport accessibility. It is interestin that top3 borougs has very poor transport to city center. If you would know that you would commute often to city due to work / studies you could assign higher scalar (than 1) to this category."
   ]
  },
  {
   "cell_type": "markdown",
   "metadata": {},
   "source": [
    "#### If you assign 2* scalar to public transport accesability it turns out that... Southwark is again the leader:)"
   ]
  },
  {
   "cell_type": "markdown",
   "metadata": {},
   "source": [
    "![title](Table5.jpg)"
   ]
  },
  {
   "cell_type": "markdown",
   "metadata": {},
   "source": [
    "#### When it comes to non Polish and no green areas, results are a bit similar.\n",
    "\n",
    "#### It seems that there are few areas that are in top 5 in aspects that we are taking into account\n",
    "\n",
    "#### Let's take a look now at correlation table"
   ]
  },
  {
   "cell_type": "markdown",
   "metadata": {},
   "source": [
    "![title](Table6.jpg)"
   ]
  },
  {
   "cell_type": "markdown",
   "metadata": {},
   "source": [
    "##### It's maybe not great visualised, due to not simetric sphere, but the most relevant observations are. \n",
    "##### 1) Positive correlation of distance and public transport accessibility. It seem to be obvious - closet to the center, better public transport accessibility.\n",
    "##### 2) Negative correlation of safety (crime rate) with distance and public transport. Density of felonies are placed towards the center of the city. Negative strong correlation with Polish accents is driven just because positve correlation of Polish spirith with two factors described earlier. It seems tthat more Polish venues you have closer to the city center. Only slight positive correlation between happiness and safety is peculiar. It seems that amount of felonies matters, but impact is not that relevant\n",
    "##### 3) When it comes to happpiness it is interesting that it is positively correlated only with greenspace, distance and beforementioned happiness. Positive correlation with distnace meens - more outside the center, better for you:)\n",
    "##### 4) When it comes to \"Polish spirit\" it is not correlated with happiness at all. It seems that Polish venues do not make people happy. I understand it, but if they try pierogies - which is Polish dumplings they would appreciated POlish contribution to happiness:). \n",
    "##### 5) And finally room prices. They are of course negatively correlated with distance and public transport vicinity. It means that prices are getting higher closer to the city center and better comunication possibilities. It is peculiar that higher prices are observed for boroughs with lower happiness and lower greenspace.\n"
   ]
  },
  {
   "cell_type": "markdown",
   "metadata": {},
   "source": [
    "## Part 5 Conclusion section "
   ]
  },
  {
   "cell_type": "markdown",
   "metadata": {},
   "source": [
    "##### Perfect place to live doesn't exist. It is always matter of pros and cons of one neighborhood to the other. In this exercise we saw that a student that will going to look for accomodation in London will have tough decision to make. One of the biggest dilemma is to choose between expensive room near by city center and more economic one outside the city center. Student will always commute to center for university, therefore with usually  limited budget this is the hardest thing. But not the only one. Closer to city center means that borough will not be safer, and people living there seems to be more frustrated than the others (lower happiness score).  \n",
    "\n",
    "##### If I should recommend a place to live in London to my friend it would be Southwark borough. It is rather close to the city center, while prices are not sky high. Good connection to city is also a good side of this area. As a place closer to city center it is not the safest place to live, but not extremely dangerous. \n",
    "\n",
    "##### NEvertheless last choice is on you my dear student. It is easy to say that you should live in Southwark not knowing your \"Utility function\". MAybe you preffer more a calm place outside the center, then maybe Bromley would be more convenient for you. \n",
    "\n",
    "##### All in all i hope that this analysis can be helpful for my friend and he/she can have make decision regarding accomodation more easy\n",
    "\n",
    "##### Thanks for watching:)"
   ]
  },
  {
   "cell_type": "code",
   "execution_count": null,
   "metadata": {},
   "outputs": [],
   "source": []
  }
 ],
 "metadata": {
  "kernelspec": {
   "display_name": "Python",
   "language": "python",
   "name": "conda-env-python-py"
  },
  "language_info": {
   "codemirror_mode": {
    "name": "ipython",
    "version": 3
   },
   "file_extension": ".py",
   "mimetype": "text/x-python",
   "name": "python",
   "nbconvert_exporter": "python",
   "pygments_lexer": "ipython3",
   "version": "3.6.7"
  }
 },
 "nbformat": 4,
 "nbformat_minor": 4
}
